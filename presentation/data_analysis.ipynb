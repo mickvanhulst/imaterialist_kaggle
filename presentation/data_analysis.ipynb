{
 "cells": [
  {
   "cell_type": "code",
   "execution_count": 2,
   "metadata": {},
   "outputs": [],
   "source": [
    "import numpy as np\n",
    "import pandas as pd\n",
    "import matplotlib.pyplot as plt\n",
    "import json\n",
    "import os\n",
    "\n",
    "% matplotlib inline"
   ]
  },
  {
   "cell_type": "code",
   "execution_count": 4,
   "metadata": {},
   "outputs": [
    {
     "name": "stdout",
     "output_type": "stream",
     "text": [
      "['.ipynb_checkpoints', 'data_analysis.ipynb', 'img', 'test.json', 'train.json', 'validation.json', '__init__.py']\n"
     ]
    }
   ],
   "source": [
    "print(os.listdir(\"./\"))\n",
    "\n",
    "with open(\"train.json\", 'r') as f:\n",
    "    train_data = json.load(f)"
   ]
  },
  {
   "cell_type": "code",
   "execution_count": 12,
   "metadata": {},
   "outputs": [],
   "source": [
    "df_imgs = pd.DataFrame.from_records(train_data[\"images\"])\n",
    "df_lbls = pd.DataFrame.from_records(train_data[\"annotations\"])\n",
    "df = pd.merge(df_imgs, df_lbls,on=\"imageId\",how=\"outer\")\n",
    "del df_imgs\n",
    "del df_lbls"
   ]
  },
  {
   "cell_type": "code",
   "execution_count": 13,
   "metadata": {},
   "outputs": [
    {
     "data": {
      "text/html": [
       "<div>\n",
       "<style>\n",
       "    .dataframe thead tr:only-child th {\n",
       "        text-align: right;\n",
       "    }\n",
       "\n",
       "    .dataframe thead th {\n",
       "        text-align: left;\n",
       "    }\n",
       "\n",
       "    .dataframe tbody tr th {\n",
       "        vertical-align: top;\n",
       "    }\n",
       "</style>\n",
       "<table border=\"1\" class=\"dataframe\">\n",
       "  <thead>\n",
       "    <tr style=\"text-align: right;\">\n",
       "      <th></th>\n",
       "      <th>imageId</th>\n",
       "      <th>url</th>\n",
       "      <th>labelId</th>\n",
       "    </tr>\n",
       "  </thead>\n",
       "  <tbody>\n",
       "    <tr>\n",
       "      <th>0</th>\n",
       "      <td>1</td>\n",
       "      <td>https://contestimg.wish.com/api/webimage/570f3...</td>\n",
       "      <td>[95, 66, 137, 70, 20]</td>\n",
       "    </tr>\n",
       "    <tr>\n",
       "      <th>1</th>\n",
       "      <td>2</td>\n",
       "      <td>https://contestimg.wish.com/api/webimage/5468f...</td>\n",
       "      <td>[36, 66, 44, 214, 105, 133]</td>\n",
       "    </tr>\n",
       "    <tr>\n",
       "      <th>2</th>\n",
       "      <td>3</td>\n",
       "      <td>https://contestimg.wish.com/api/webimage/54641...</td>\n",
       "      <td>[170, 66, 97, 153, 105, 138]</td>\n",
       "    </tr>\n",
       "    <tr>\n",
       "      <th>3</th>\n",
       "      <td>4</td>\n",
       "      <td>https://contestimg.wish.com/api/webimage/550b9...</td>\n",
       "      <td>[18, 66, 44, 153, 164]</td>\n",
       "    </tr>\n",
       "    <tr>\n",
       "      <th>4</th>\n",
       "      <td>5</td>\n",
       "      <td>https://contestimg.wish.com/api/webimage/54451...</td>\n",
       "      <td>[189, 66, 176, 137, 153, 74, 181, 171, 138]</td>\n",
       "    </tr>\n",
       "  </tbody>\n",
       "</table>\n",
       "</div>"
      ],
      "text/plain": [
       "  imageId                                                url  \\\n",
       "0       1  https://contestimg.wish.com/api/webimage/570f3...   \n",
       "1       2  https://contestimg.wish.com/api/webimage/5468f...   \n",
       "2       3  https://contestimg.wish.com/api/webimage/54641...   \n",
       "3       4  https://contestimg.wish.com/api/webimage/550b9...   \n",
       "4       5  https://contestimg.wish.com/api/webimage/54451...   \n",
       "\n",
       "                                       labelId  \n",
       "0                        [95, 66, 137, 70, 20]  \n",
       "1                  [36, 66, 44, 214, 105, 133]  \n",
       "2                 [170, 66, 97, 153, 105, 138]  \n",
       "3                       [18, 66, 44, 153, 164]  \n",
       "4  [189, 66, 176, 137, 153, 74, 181, 171, 138]  "
      ]
     },
     "execution_count": 13,
     "metadata": {},
     "output_type": "execute_result"
    }
   ],
   "source": [
    "df.head()"
   ]
  },
  {
   "cell_type": "code",
   "execution_count": 14,
   "metadata": {},
   "outputs": [],
   "source": [
    "labels = df[\"labelId\"].values"
   ]
  },
  {
   "cell_type": "code",
   "execution_count": 30,
   "metadata": {},
   "outputs": [
    {
     "name": "stdout",
     "output_type": "stream",
     "text": [
      "unique labels: 228\n",
      "[  1   2   3   4   5   6   7   8   9  10  11  12  13  14  15  16  17  18\n",
      "  19  20  21  22  23  24  25  26  27  28  29  30  31  32  33  34  35  36\n",
      "  37  38  39  40  41  42  43  44  45  46  47  48  49  50  51  52  53  54\n",
      "  55  56  57  58  59  60  61  62  63  64  65  66  67  68  69  70  71  72\n",
      "  73  74  75  76  77  78  79  80  81  82  83  84  85  86  87  88  89  90\n",
      "  91  92  93  94  95  96  97  98  99 100 101 102 103 104 105 106 107 108\n",
      " 109 110 111 112 113 114 115 116 117 118 119 120 121 122 123 124 125 126\n",
      " 127 128 129 130 131 132 133 134 135 136 137 138 139 140 141 142 143 144\n",
      " 145 146 147 148 149 150 151 152 153 154 155 156 157 158 159 160 161 162\n",
      " 163 164 165 166 167 168 169 170 171 172 173 174 175 176 177 178 179 180\n",
      " 181 182 183 184 185 186 187 188 189 190 191 192 193 194 195 196 197 198\n",
      " 199 200 201 202 203 204 205 206 207 208 209 210 211 212 213 214 215 216\n",
      " 217 218 219 220 221 222 223 224 225 226 227 228]\n"
     ]
    }
   ],
   "source": [
    "from itertools import chain\n",
    "\n",
    "unique_labels = np.array(list(set(chain.from_iterable(labels))), dtype=int)\n",
    "print(\"unique labels:\", len(unique_labels))\n",
    "print(np.sort(unique_labels))"
   ]
  },
  {
   "cell_type": "code",
   "execution_count": null,
   "metadata": {},
   "outputs": [],
   "source": []
  }
 ],
 "metadata": {
  "kernelspec": {
   "display_name": "Python 3",
   "language": "python",
   "name": "python3"
  },
  "language_info": {
   "codemirror_mode": {
    "name": "ipython",
    "version": 3
   },
   "file_extension": ".py",
   "mimetype": "text/x-python",
   "name": "python",
   "nbconvert_exporter": "python",
   "pygments_lexer": "ipython3",
   "version": "3.5.2"
  }
 },
 "nbformat": 4,
 "nbformat_minor": 1
}
